{
 "cells": [
  {
   "cell_type": "code",
   "execution_count": 1,
   "metadata": {},
   "outputs": [],
   "source": [
    "%load_ext autoreload\n",
    "%autoreload 2"
   ]
  },
  {
   "cell_type": "code",
   "execution_count": 2,
   "metadata": {},
   "outputs": [],
   "source": [
    "import warnings\n",
    "warnings.filterwarnings(\"ignore\")"
   ]
  },
  {
   "cell_type": "code",
   "execution_count": 3,
   "metadata": {},
   "outputs": [],
   "source": [
    "import glob\n",
    "import numpy as np\n",
    "import pandas as pd\n",
    "import seaborn as sns\n",
    "import scipy.io as sio\n",
    "from matplotlib import colors\n",
    "import matplotlib.pyplot as plt\n",
    "from toolz.curried import pipe, curry"
   ]
  },
  {
   "cell_type": "code",
   "execution_count": 4,
   "metadata": {},
   "outputs": [
    {
     "name": "stdout",
     "output_type": "stream",
     "text": [
      "230\n"
     ]
    }
   ],
   "source": [
    "flist = sorted(glob.glob(\"poreData/iza_structures_pore_0-1/*_pore.mat\"))\n",
    "print(len(flist))"
   ]
  },
  {
   "cell_type": "code",
   "execution_count": 5,
   "metadata": {},
   "outputs": [
    {
     "name": "stdout",
     "output_type": "stream",
     "text": [
      "[['ABW']\n",
      " ['ACO']\n",
      " ['AEI']\n",
      " ['AEL']\n",
      " ['AEN']]\n"
     ]
    }
   ],
   "source": [
    "cifs = np.asarray([fname.split(\"/\")[-1].split(\"_pore\")[0] for fname in flist])[:,None]\n",
    "print(cifs[:5])"
   ]
  },
  {
   "cell_type": "code",
   "execution_count": 6,
   "metadata": {},
   "outputs": [
    {
     "name": "stdout",
     "output_type": "stream",
     "text": [
      "CPU times: user 421 ms, sys: 161 ms, total: 582 ms\n",
      "Wall time: 2.85 s\n"
     ]
    }
   ],
   "source": [
    "%%time\n",
    "columns = [\"cif\", \"pld\", \"lcd\", \"asa\", \"av\", \"psd mean\", \"psd std\", \"n_paths\", \"paths mean\", \"paths std\", \"xdim\", \"ydim\", \"zdim\", \"n_channels\"]\n",
    "table = np.zeros((len(flist), 13))\n",
    "\n",
    "paths_list = []\n",
    "psd_list = []\n",
    "dim_list = []\n",
    "area_list = []\n",
    "h_list = []\n",
    "for i, fname in enumerate(flist):\n",
    "    s = sio.loadmat(fname)\n",
    "    table[i, 0] = s['pld'][0]\n",
    "    table[i, 1] = s['lcd'][0]\n",
    "    table[i, 2] = s['asa'][0]\n",
    "    table[i, 3] = s['av'][0]\n",
    "    psd_list.append(s['psd'][0])\n",
    "    table[i, 4] = np.mean(s['psd'][0])\n",
    "    table[i, 5] = np.std(s['psd'][0])\n",
    "    if len(s['paths']) is not 0:\n",
    "        table[i, 6] = len(s['paths'][0])\n",
    "        paths_list.append(s['paths'][0])\n",
    "    table[i, 7] = np.mean(s['paths'])\n",
    "    table[i, 8] = np.std(s['paths'])\n",
    "    table[i, 9] = s['dim'][0][0]\n",
    "    table[i, 10] = s['dim'][0][1]\n",
    "    table[i, 11] = s['dim'][0][2]\n",
    "    dim_list.append(s['dim'][0][0]*s['dim'][0][1]*s['dim'][0][2])\n",
    "    area_list.append(s['dim'][0][0]*s['dim'][0][1]+ s['dim'][0][0]*s['dim'][0][2] + s['dim'][0][1]*s['dim'][0][2])\n",
    "    if len(s['paths']) is not 0:\n",
    "        table[i, 12] = s['n_paths'][0]\n",
    "table = np.concatenate([cifs, table], axis=1)\n",
    "vols = np.asarray(dim_list)\n",
    "areas = np.asarray(area_list)"
   ]
  },
  {
   "cell_type": "code",
   "execution_count": 7,
   "metadata": {},
   "outputs": [
    {
     "data": {
      "text/html": [
       "<div>\n",
       "<style scoped>\n",
       "    .dataframe tbody tr th:only-of-type {\n",
       "        vertical-align: middle;\n",
       "    }\n",
       "\n",
       "    .dataframe tbody tr th {\n",
       "        vertical-align: top;\n",
       "    }\n",
       "\n",
       "    .dataframe thead th {\n",
       "        text-align: right;\n",
       "    }\n",
       "</style>\n",
       "<table border=\"1\" class=\"dataframe\">\n",
       "  <thead>\n",
       "    <tr style=\"text-align: right;\">\n",
       "      <th></th>\n",
       "      <th>cif</th>\n",
       "      <th>pld</th>\n",
       "      <th>lcd</th>\n",
       "      <th>asa</th>\n",
       "      <th>av</th>\n",
       "      <th>psd mean</th>\n",
       "      <th>psd std</th>\n",
       "      <th>n_paths</th>\n",
       "      <th>paths mean</th>\n",
       "      <th>paths std</th>\n",
       "      <th>xdim</th>\n",
       "      <th>ydim</th>\n",
       "      <th>zdim</th>\n",
       "      <th>n_channels</th>\n",
       "    </tr>\n",
       "  </thead>\n",
       "  <tbody>\n",
       "    <tr>\n",
       "      <th>0</th>\n",
       "      <td>ABW</td>\n",
       "      <td>2.476562</td>\n",
       "      <td>4.242640</td>\n",
       "      <td>2824.94</td>\n",
       "      <td>1546.396</td>\n",
       "      <td>0.994927</td>\n",
       "      <td>0.524161</td>\n",
       "      <td>589.0</td>\n",
       "      <td>1.690595</td>\n",
       "      <td>0.268248</td>\n",
       "      <td>18.5</td>\n",
       "      <td>9.5</td>\n",
       "      <td>16.8</td>\n",
       "      <td>1.0</td>\n",
       "    </tr>\n",
       "    <tr>\n",
       "      <th>1</th>\n",
       "      <td>ACO</td>\n",
       "      <td>3.601562</td>\n",
       "      <td>4.604346</td>\n",
       "      <td>5859.62</td>\n",
       "      <td>3399.968</td>\n",
       "      <td>1.090194</td>\n",
       "      <td>0.590122</td>\n",
       "      <td>550.0</td>\n",
       "      <td>1.732020</td>\n",
       "      <td>0.351302</td>\n",
       "      <td>18.6</td>\n",
       "      <td>18.6</td>\n",
       "      <td>18.4</td>\n",
       "      <td>1.0</td>\n",
       "    </tr>\n",
       "    <tr>\n",
       "      <th>2</th>\n",
       "      <td>AEI</td>\n",
       "      <td>3.601562</td>\n",
       "      <td>7.337575</td>\n",
       "      <td>19212.96</td>\n",
       "      <td>15170.100</td>\n",
       "      <td>1.418122</td>\n",
       "      <td>0.816693</td>\n",
       "      <td>2376.0</td>\n",
       "      <td>1.444696</td>\n",
       "      <td>0.115261</td>\n",
       "      <td>26.2</td>\n",
       "      <td>25.6</td>\n",
       "      <td>36.9</td>\n",
       "      <td>1.0</td>\n",
       "    </tr>\n",
       "    <tr>\n",
       "      <th>3</th>\n",
       "      <td>AEL</td>\n",
       "      <td>1.914062</td>\n",
       "      <td>5.582114</td>\n",
       "      <td>12974.57</td>\n",
       "      <td>7077.888</td>\n",
       "      <td>1.094636</td>\n",
       "      <td>0.559769</td>\n",
       "      <td>5520.0</td>\n",
       "      <td>1.706736</td>\n",
       "      <td>0.227627</td>\n",
       "      <td>15.4</td>\n",
       "      <td>36.3</td>\n",
       "      <td>25.4</td>\n",
       "      <td>1.0</td>\n",
       "    </tr>\n",
       "    <tr>\n",
       "      <th>4</th>\n",
       "      <td>AEN</td>\n",
       "      <td>3.601562</td>\n",
       "      <td>5.800000</td>\n",
       "      <td>17123.88</td>\n",
       "      <td>8621.222</td>\n",
       "      <td>0.978989</td>\n",
       "      <td>0.525480</td>\n",
       "      <td>21450.0</td>\n",
       "      <td>2.191940</td>\n",
       "      <td>0.485455</td>\n",
       "      <td>35.8</td>\n",
       "      <td>26.9</td>\n",
       "      <td>18.4</td>\n",
       "      <td>1.0</td>\n",
       "    </tr>\n",
       "  </tbody>\n",
       "</table>\n",
       "</div>"
      ],
      "text/plain": [
       "   cif       pld       lcd       asa         av  psd mean   psd std  n_paths  \\\n",
       "0  ABW  2.476562  4.242640   2824.94   1546.396  0.994927  0.524161    589.0   \n",
       "1  ACO  3.601562  4.604346   5859.62   3399.968  1.090194  0.590122    550.0   \n",
       "2  AEI  3.601562  7.337575  19212.96  15170.100  1.418122  0.816693   2376.0   \n",
       "3  AEL  1.914062  5.582114  12974.57   7077.888  1.094636  0.559769   5520.0   \n",
       "4  AEN  3.601562  5.800000  17123.88   8621.222  0.978989  0.525480  21450.0   \n",
       "\n",
       "   paths mean  paths std  xdim  ydim  zdim  n_channels  \n",
       "0    1.690595   0.268248  18.5   9.5  16.8         1.0  \n",
       "1    1.732020   0.351302  18.6  18.6  18.4         1.0  \n",
       "2    1.444696   0.115261  26.2  25.6  36.9         1.0  \n",
       "3    1.706736   0.227627  15.4  36.3  25.4         1.0  \n",
       "4    2.191940   0.485455  35.8  26.9  18.4         1.0  "
      ]
     },
     "execution_count": 7,
     "metadata": {},
     "output_type": "execute_result"
    }
   ],
   "source": [
    "df = pd.DataFrame(data=table, columns=columns)\n",
    "for col in columns[1:]:\n",
    "    df[col] = df[col].astype(float)\n",
    "df.head(5)"
   ]
  },
  {
   "cell_type": "code",
   "execution_count": 8,
   "metadata": {},
   "outputs": [
    {
     "data": {
      "text/html": [
       "<div>\n",
       "<style scoped>\n",
       "    .dataframe tbody tr th:only-of-type {\n",
       "        vertical-align: middle;\n",
       "    }\n",
       "\n",
       "    .dataframe tbody tr th {\n",
       "        vertical-align: top;\n",
       "    }\n",
       "\n",
       "    .dataframe thead th {\n",
       "        text-align: right;\n",
       "    }\n",
       "</style>\n",
       "<table border=\"1\" class=\"dataframe\">\n",
       "  <thead>\n",
       "    <tr style=\"text-align: right;\">\n",
       "      <th></th>\n",
       "      <th>pld</th>\n",
       "      <th>lcd</th>\n",
       "      <th>asa</th>\n",
       "      <th>av</th>\n",
       "      <th>psd mean</th>\n",
       "      <th>psd std</th>\n",
       "      <th>n_paths</th>\n",
       "      <th>paths mean</th>\n",
       "      <th>paths std</th>\n",
       "      <th>xdim</th>\n",
       "      <th>ydim</th>\n",
       "      <th>zdim</th>\n",
       "      <th>n_channels</th>\n",
       "    </tr>\n",
       "  </thead>\n",
       "  <tbody>\n",
       "    <tr>\n",
       "      <th>count</th>\n",
       "      <td>230.000000</td>\n",
       "      <td>230.000000</td>\n",
       "      <td>230.000000</td>\n",
       "      <td>230.000000</td>\n",
       "      <td>230.000000</td>\n",
       "      <td>230.000000</td>\n",
       "      <td>230.000000</td>\n",
       "      <td>230.000000</td>\n",
       "      <td>230.000000</td>\n",
       "      <td>230.000000</td>\n",
       "      <td>230.000000</td>\n",
       "      <td>230.000000</td>\n",
       "      <td>230.0</td>\n",
       "    </tr>\n",
       "    <tr>\n",
       "      <th>mean</th>\n",
       "      <td>3.979416</td>\n",
       "      <td>7.198980</td>\n",
       "      <td>27294.438348</td>\n",
       "      <td>19725.376352</td>\n",
       "      <td>1.216340</td>\n",
       "      <td>0.727692</td>\n",
       "      <td>18055.234783</td>\n",
       "      <td>1.930981</td>\n",
       "      <td>0.376327</td>\n",
       "      <td>29.964348</td>\n",
       "      <td>29.767391</td>\n",
       "      <td>31.929565</td>\n",
       "      <td>1.0</td>\n",
       "    </tr>\n",
       "    <tr>\n",
       "      <th>std</th>\n",
       "      <td>1.984249</td>\n",
       "      <td>2.131462</td>\n",
       "      <td>48694.852404</td>\n",
       "      <td>36575.417713</td>\n",
       "      <td>0.216510</td>\n",
       "      <td>0.205677</td>\n",
       "      <td>41431.884408</td>\n",
       "      <td>0.599057</td>\n",
       "      <td>0.316008</td>\n",
       "      <td>13.373572</td>\n",
       "      <td>14.407141</td>\n",
       "      <td>21.385495</td>\n",
       "      <td>0.0</td>\n",
       "    </tr>\n",
       "    <tr>\n",
       "      <th>min</th>\n",
       "      <td>1.210938</td>\n",
       "      <td>3.600000</td>\n",
       "      <td>1566.230000</td>\n",
       "      <td>1012.192000</td>\n",
       "      <td>0.742205</td>\n",
       "      <td>0.305736</td>\n",
       "      <td>75.000000</td>\n",
       "      <td>1.159330</td>\n",
       "      <td>0.029203</td>\n",
       "      <td>9.500000</td>\n",
       "      <td>9.500000</td>\n",
       "      <td>9.300000</td>\n",
       "      <td>1.0</td>\n",
       "    </tr>\n",
       "    <tr>\n",
       "      <th>25%</th>\n",
       "      <td>2.335938</td>\n",
       "      <td>5.688582</td>\n",
       "      <td>9890.635000</td>\n",
       "      <td>6112.673000</td>\n",
       "      <td>1.090149</td>\n",
       "      <td>0.592151</td>\n",
       "      <td>2126.000000</td>\n",
       "      <td>1.492687</td>\n",
       "      <td>0.140998</td>\n",
       "      <td>19.725000</td>\n",
       "      <td>21.825000</td>\n",
       "      <td>17.775000</td>\n",
       "      <td>1.0</td>\n",
       "    </tr>\n",
       "    <tr>\n",
       "      <th>50%</th>\n",
       "      <td>3.601562</td>\n",
       "      <td>6.903621</td>\n",
       "      <td>16398.830000</td>\n",
       "      <td>10472.034000</td>\n",
       "      <td>1.192756</td>\n",
       "      <td>0.691324</td>\n",
       "      <td>5547.000000</td>\n",
       "      <td>1.731322</td>\n",
       "      <td>0.271136</td>\n",
       "      <td>26.800000</td>\n",
       "      <td>26.250000</td>\n",
       "      <td>26.550000</td>\n",
       "      <td>1.0</td>\n",
       "    </tr>\n",
       "    <tr>\n",
       "      <th>75%</th>\n",
       "      <td>5.289062</td>\n",
       "      <td>8.062258</td>\n",
       "      <td>27301.687500</td>\n",
       "      <td>19559.291000</td>\n",
       "      <td>1.307639</td>\n",
       "      <td>0.811942</td>\n",
       "      <td>17197.750000</td>\n",
       "      <td>2.191408</td>\n",
       "      <td>0.529068</td>\n",
       "      <td>37.200000</td>\n",
       "      <td>35.850000</td>\n",
       "      <td>40.375000</td>\n",
       "      <td>1.0</td>\n",
       "    </tr>\n",
       "    <tr>\n",
       "      <th>max</th>\n",
       "      <td>11.898438</td>\n",
       "      <td>16.340136</td>\n",
       "      <td>536643.180000</td>\n",
       "      <td>403993.799000</td>\n",
       "      <td>2.383693</td>\n",
       "      <td>1.647325</td>\n",
       "      <td>484295.000000</td>\n",
       "      <td>4.041914</td>\n",
       "      <td>1.634035</td>\n",
       "      <td>88.300000</td>\n",
       "      <td>113.700000</td>\n",
       "      <td>219.600000</td>\n",
       "      <td>1.0</td>\n",
       "    </tr>\n",
       "  </tbody>\n",
       "</table>\n",
       "</div>"
      ],
      "text/plain": [
       "              pld         lcd            asa             av    psd mean  \\\n",
       "count  230.000000  230.000000     230.000000     230.000000  230.000000   \n",
       "mean     3.979416    7.198980   27294.438348   19725.376352    1.216340   \n",
       "std      1.984249    2.131462   48694.852404   36575.417713    0.216510   \n",
       "min      1.210938    3.600000    1566.230000    1012.192000    0.742205   \n",
       "25%      2.335938    5.688582    9890.635000    6112.673000    1.090149   \n",
       "50%      3.601562    6.903621   16398.830000   10472.034000    1.192756   \n",
       "75%      5.289062    8.062258   27301.687500   19559.291000    1.307639   \n",
       "max     11.898438   16.340136  536643.180000  403993.799000    2.383693   \n",
       "\n",
       "          psd std        n_paths  paths mean   paths std        xdim  \\\n",
       "count  230.000000     230.000000  230.000000  230.000000  230.000000   \n",
       "mean     0.727692   18055.234783    1.930981    0.376327   29.964348   \n",
       "std      0.205677   41431.884408    0.599057    0.316008   13.373572   \n",
       "min      0.305736      75.000000    1.159330    0.029203    9.500000   \n",
       "25%      0.592151    2126.000000    1.492687    0.140998   19.725000   \n",
       "50%      0.691324    5547.000000    1.731322    0.271136   26.800000   \n",
       "75%      0.811942   17197.750000    2.191408    0.529068   37.200000   \n",
       "max      1.647325  484295.000000    4.041914    1.634035   88.300000   \n",
       "\n",
       "             ydim        zdim  n_channels  \n",
       "count  230.000000  230.000000       230.0  \n",
       "mean    29.767391   31.929565         1.0  \n",
       "std     14.407141   21.385495         0.0  \n",
       "min      9.500000    9.300000         1.0  \n",
       "25%     21.825000   17.775000         1.0  \n",
       "50%     26.250000   26.550000         1.0  \n",
       "75%     35.850000   40.375000         1.0  \n",
       "max    113.700000  219.600000         1.0  "
      ]
     },
     "execution_count": 8,
     "metadata": {},
     "output_type": "execute_result"
    }
   ],
   "source": [
    "df.describe()"
   ]
  },
  {
   "cell_type": "code",
   "execution_count": 9,
   "metadata": {},
   "outputs": [],
   "source": [
    "df.to_csv(\"iza_bulk.csv\", sep=',')"
   ]
  },
  {
   "cell_type": "code",
   "execution_count": 10,
   "metadata": {},
   "outputs": [
    {
     "data": {
      "image/png": "[encoded data removed]",
      "text/plain": [
       "<Figure size 432x432 with 1 Axes>"
      ]
     },
     "metadata": {
      "needs_background": "light"
     },
     "output_type": "display_data"
    }
   ],
   "source": [
    "l1 = np.array(df[\"pld\"])\n",
    "l2 = np.array(df[\"lcd\"])\n",
    "\n",
    "plt.figure(figsize=(6, 6))\n",
    "plt.scatter(l1, l2, c=\"r\")\n",
    "plt.title(\"LCDs and PLDs for Bulk IZA Structures\\n\")\n",
    "plt.xlabel(\"pld $(\\mathrm{\\AA})$\")\n",
    "plt.ylabel(\"lcd $(\\mathrm{\\AA})$\")\n",
    "plt.xlim([-0.2, 18.0])\n",
    "plt.ylim([-0.2, 18.0])\n",
    "plt.plot([-0.2, 18.0], [-0.2, 18.0], ls=\"--\", c=\".3\")\n",
    "plt.show()"
   ]
  },
  {
   "cell_type": "code",
   "execution_count": 11,
   "metadata": {
    "scrolled": false
   },
   "outputs": [
    {
     "data": {
      "image/png": "[encoded data removed]",
      "text/plain": [
       "<Figure size 432x288 with 1 Axes>"
      ]
     },
     "metadata": {
      "needs_background": "light"
     },
     "output_type": "display_data"
    },
    {
     "data": {
      "image/png": "[encoded data removed]",
      "text/plain": [
       "<Figure size 432x288 with 1 Axes>"
      ]
     },
     "metadata": {
      "needs_background": "light"
     },
     "output_type": "display_data"
    },
    {
     "data": {
      "image/png": "[encoded data removed]",
      "text/plain": [
       "<Figure size 432x288 with 1 Axes>"
      ]
     },
     "metadata": {
      "needs_background": "light"
     },
     "output_type": "display_data"
    },
    {
     "data": {
      "image/png": "[encoded data removed]",
      "text/plain": [
       "<Figure size 432x288 with 1 Axes>"
      ]
     },
     "metadata": {
      "needs_background": "light"
     },
     "output_type": "display_data"
    },
    {
     "data": {
      "image/png": "[encoded data removed]",
      "text/plain": [
       "<Figure size 432x288 with 1 Axes>"
      ]
     },
     "metadata": {
      "needs_background": "light"
     },
     "output_type": "display_data"
    },
    {
     "data": {
      "image/png": "[encoded data removed]",
      "text/plain": [
       "<Figure size 432x288 with 1 Axes>"
      ]
     },
     "metadata": {
      "needs_background": "light"
     },
     "output_type": "display_data"
    },
    {
     "data": {
      "image/png": "[encoded data removed]",
      "text/plain": [
       "<Figure size 432x288 with 1 Axes>"
      ]
     },
     "metadata": {
      "needs_background": "light"
     },
     "output_type": "display_data"
    }
   ],
   "source": [
    "l = np.array(df[\"asa\"])\n",
    "sns.distplot(l/areas, bins=30, kde=False, color=\"r\")\n",
    "plt.title(\"Accessible Surface Area$(\\mathrm{\\AA}^2)$, probe=0.1$\\mathrm{\\AA}$\")\n",
    "plt.xlabel(\"Surface Area\")\n",
    "plt.ylabel(\"Structure Count\")\n",
    "plt.show()\n",
    "\n",
    "l = np.array(df[\"av\"])\n",
    "sns.distplot(l/vols, bins=30, kde=False, color=\"r\")\n",
    "plt.title(\"Accessible Volume $(\\mathrm{\\AA}^3)$, probe=0.1$\\mathrm{\\AA}$\")\n",
    "plt.xlabel(\"Volume\")\n",
    "plt.ylabel(\"Structure Count\")\n",
    "plt.show()\n",
    "\n",
    "l = np.array(df[\"pld\"])\n",
    "sns.distplot(l, bins=30, kde=False, color=\"r\")\n",
    "plt.title(\"Pore Limiting Diameter $(\\mathrm{\\AA})$\")\n",
    "plt.xlabel(\"Pore Limiting Diameter\")\n",
    "plt.ylabel(\"Structure Count\")\n",
    "plt.show()\n",
    "\n",
    "l = np.array(df[\"lcd\"])\n",
    "sns.distplot(l, bins=30, kde=False, color=\"r\")\n",
    "plt.title(\"Largest Cavity Diameter $(\\mathrm{\\AA})$\")\n",
    "plt.xlabel(\"Largest Cavity Diameter\")\n",
    "plt.ylabel(\"Structure Count\")\n",
    "plt.show()\n",
    "\n",
    "l = np.array(df[\"n_channels\"])\n",
    "sns.distplot(l, bins=30, kde=False, color=\"r\")\n",
    "plt.title(\"Z direction unique paths in a $(2\\cdot 2\\cdot 2)$ super cell, probe=0.1$\\mathrm{\\AA}$\")\n",
    "plt.xlabel(\"No. of Channels\")\n",
    "plt.ylabel(\"Structure Count\")\n",
    "plt.show()\n",
    "\n",
    "l = np.array(df[\"paths mean\"])\n",
    "l[np.isnan(l)] = 0\n",
    "sns.distplot(l, bins=30, kde=False, color=\"r\")\n",
    "plt.title(\"Mean Path Length, probe=0.1$\\mathrm{\\AA}$\")\n",
    "plt.xlabel(\"Mean Path Length\")\n",
    "plt.ylabel(\"Structure Count\")\n",
    "plt.show()\n",
    "\n",
    "l = vols.copy()\n",
    "l[np.isnan(l)] = 0\n",
    "sns.distplot(np.log10(l), bins=30, kde=False, color=\"r\")\n",
    "plt.title(\"Unit Cell Volumes, probe=0.1$\\mathrm{\\AA}$\")\n",
    "plt.xlabel(\"log of Unit Cell Volume\")\n",
    "plt.ylabel(\"Structure Count\")\n",
    "plt.show()"
   ]
  },
  {
   "cell_type": "code",
   "execution_count": null,
   "metadata": {},
   "outputs": [],
   "source": [
    "%%time\n",
    "for i in range(230):\n",
    "    psd = psd_list[i]\n",
    "    sns.distplot(psd, bins=30, kde=False)\n",
    "plt.title(\"Overlay of accessible Pore Size Distribution for few structures\")\n",
    "plt.xlabel(\"Pore size in $\\mathrm{\\AA}$\")\n",
    "plt.ylabel(\"Pixel Count\")\n",
    "plt.show()"
   ]
  },
  {
   "cell_type": "code",
   "execution_count": null,
   "metadata": {},
   "outputs": [],
   "source": [
    "nbins = 100\n",
    "psd_norm = np.zeros((len(psd_list), nbins))\n",
    "\n",
    "for indx, psd in enumerate(psd_list):\n",
    "    psd_norm[indx, :] = (np.histogram(psd, bins=nbins, range=(0,10))[0] / len(psd))"
   ]
  },
  {
   "cell_type": "code",
   "execution_count": null,
   "metadata": {},
   "outputs": [],
   "source": [
    "for i in range(230):\n",
    "    psd = psd_norm[i]\n",
    "    plt.plot(psd)\n",
    "plt.show()"
   ]
  }
 ],
 "metadata": {
  "kernelspec": {
   "display_name": "Python 3",
   "language": "python",
   "name": "python3"
  },
  "language_info": {
   "codemirror_mode": {
    "name": "ipython",
    "version": 3
   },
   "file_extension": ".py",
   "mimetype": "text/x-python",
   "name": "python",
   "nbconvert_exporter": "python",
   "pygments_lexer": "ipython3",
   "version": "3.6.6"
  }
 },
 "nbformat": 4,
 "nbformat_minor": 2
}
