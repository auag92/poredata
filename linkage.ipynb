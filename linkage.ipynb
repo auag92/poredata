{
 "cells": [
  {
   "cell_type": "code",
   "execution_count": 1,
   "metadata": {},
   "outputs": [],
   "source": [
    "%load_ext autoreload\n",
    "%autoreload 2\n",
    "\n",
    "import warnings\n",
    "warnings.filterwarnings(\"ignore\")\n",
    "\n",
    "import glob\n",
    "import numpy as np\n",
    "import pandas as pd\n",
    "import seaborn as sns\n",
    "import scipy.io as sio\n",
    "from matplotlib import colors\n",
    "import matplotlib.pyplot as plt\n",
    "from toolz.curried import pipe, curry"
   ]
  },
  {
   "cell_type": "code",
   "execution_count": 2,
   "metadata": {},
   "outputs": [],
   "source": [
    "df_str = pd.read_csv(\"csv/iza_bulk.csv\")\n",
    "df_dft = pd.read_csv(\"csv/dft.csv\")\n",
    "df_hal = pd.read_csv(\"csv/hal.csv\")\n",
    "cif = df_str[\"cif\"]"
   ]
  },
  {
   "cell_type": "code",
   "execution_count": 3,
   "metadata": {},
   "outputs": [
    {
     "name": "stdout",
     "output_type": "stream",
     "text": [
      "230\n",
      "195\n",
      "189\n"
     ]
    }
   ],
   "source": [
    "print(len(df_str))\n",
    "print(len(df_dft))\n",
    "print(len(df_hal))"
   ]
  },
  {
   "cell_type": "code",
   "execution_count": 4,
   "metadata": {},
   "outputs": [
    {
     "data": {
      "text/html": [
       "<div>\n",
       "<style scoped>\n",
       "    .dataframe tbody tr th:only-of-type {\n",
       "        vertical-align: middle;\n",
       "    }\n",
       "\n",
       "    .dataframe tbody tr th {\n",
       "        vertical-align: top;\n",
       "    }\n",
       "\n",
       "    .dataframe thead th {\n",
       "        text-align: right;\n",
       "    }\n",
       "</style>\n",
       "<table border=\"1\" class=\"dataframe\">\n",
       "  <thead>\n",
       "    <tr style=\"text-align: right;\">\n",
       "      <th></th>\n",
       "      <th>cif</th>\n",
       "      <th>pld</th>\n",
       "      <th>lcd</th>\n",
       "      <th>asa</th>\n",
       "      <th>av</th>\n",
       "      <th>psd mean</th>\n",
       "      <th>psd std</th>\n",
       "      <th>n_paths</th>\n",
       "      <th>paths mean</th>\n",
       "      <th>paths std</th>\n",
       "      <th>...</th>\n",
       "      <th>ydim</th>\n",
       "      <th>zdim</th>\n",
       "      <th>n_channels</th>\n",
       "      <th>name</th>\n",
       "      <th>g_gbr</th>\n",
       "      <th>k_gbr</th>\n",
       "      <th>Kh(mmol/gratm) CH4</th>\n",
       "      <th>Ener_dif(kJ/mol)CH4</th>\n",
       "      <th>Kh(mmol/gratm)H2</th>\n",
       "      <th>Ener_dif(kJ/mol)H2</th>\n",
       "    </tr>\n",
       "  </thead>\n",
       "  <tbody>\n",
       "    <tr>\n",
       "      <th>0</th>\n",
       "      <td>ABW</td>\n",
       "      <td>2.476562</td>\n",
       "      <td>4.242640</td>\n",
       "      <td>2824.94</td>\n",
       "      <td>1546.396</td>\n",
       "      <td>0.994927</td>\n",
       "      <td>0.524161</td>\n",
       "      <td>589.0</td>\n",
       "      <td>1.690595</td>\n",
       "      <td>0.268248</td>\n",
       "      <td>...</td>\n",
       "      <td>9.5</td>\n",
       "      <td>16.8</td>\n",
       "      <td>1.0</td>\n",
       "      <td>ABW</td>\n",
       "      <td>42.398400</td>\n",
       "      <td>89.876943</td>\n",
       "      <td>0.497018</td>\n",
       "      <td>10.325025</td>\n",
       "      <td>0.023497</td>\n",
       "      <td>1.007867</td>\n",
       "    </tr>\n",
       "    <tr>\n",
       "      <th>1</th>\n",
       "      <td>ACO</td>\n",
       "      <td>3.601562</td>\n",
       "      <td>4.604346</td>\n",
       "      <td>5859.62</td>\n",
       "      <td>3399.968</td>\n",
       "      <td>1.090194</td>\n",
       "      <td>0.590122</td>\n",
       "      <td>550.0</td>\n",
       "      <td>1.732020</td>\n",
       "      <td>0.351302</td>\n",
       "      <td>...</td>\n",
       "      <td>18.6</td>\n",
       "      <td>18.4</td>\n",
       "      <td>1.0</td>\n",
       "      <td>ACO</td>\n",
       "      <td>31.407661</td>\n",
       "      <td>90.180304</td>\n",
       "      <td>0.966936</td>\n",
       "      <td>9.091395</td>\n",
       "      <td>0.029636</td>\n",
       "      <td>0.230720</td>\n",
       "    </tr>\n",
       "    <tr>\n",
       "      <th>2</th>\n",
       "      <td>AEI</td>\n",
       "      <td>3.601562</td>\n",
       "      <td>7.337575</td>\n",
       "      <td>19212.96</td>\n",
       "      <td>15170.100</td>\n",
       "      <td>1.418122</td>\n",
       "      <td>0.816693</td>\n",
       "      <td>2376.0</td>\n",
       "      <td>1.444696</td>\n",
       "      <td>0.115261</td>\n",
       "      <td>...</td>\n",
       "      <td>25.6</td>\n",
       "      <td>36.9</td>\n",
       "      <td>1.0</td>\n",
       "      <td>AEI</td>\n",
       "      <td>25.204138</td>\n",
       "      <td>50.301074</td>\n",
       "      <td>0.569469</td>\n",
       "      <td>5.686089</td>\n",
       "      <td>0.027799</td>\n",
       "      <td>1.736061</td>\n",
       "    </tr>\n",
       "  </tbody>\n",
       "</table>\n",
       "<p>3 rows × 21 columns</p>\n",
       "</div>"
      ],
      "text/plain": [
       "   cif       pld       lcd       asa         av  psd mean   psd std  n_paths  \\\n",
       "0  ABW  2.476562  4.242640   2824.94   1546.396  0.994927  0.524161    589.0   \n",
       "1  ACO  3.601562  4.604346   5859.62   3399.968  1.090194  0.590122    550.0   \n",
       "2  AEI  3.601562  7.337575  19212.96  15170.100  1.418122  0.816693   2376.0   \n",
       "\n",
       "   paths mean  paths std         ...          ydim  zdim  n_channels  name  \\\n",
       "0    1.690595   0.268248         ...           9.5  16.8         1.0   ABW   \n",
       "1    1.732020   0.351302         ...          18.6  18.4         1.0   ACO   \n",
       "2    1.444696   0.115261         ...          25.6  36.9         1.0   AEI   \n",
       "\n",
       "       g_gbr      k_gbr  Kh(mmol/gratm) CH4  Ener_dif(kJ/mol)CH4  \\\n",
       "0  42.398400  89.876943            0.497018            10.325025   \n",
       "1  31.407661  90.180304            0.966936             9.091395   \n",
       "2  25.204138  50.301074            0.569469             5.686089   \n",
       "\n",
       "   Kh(mmol/gratm)H2  Ener_dif(kJ/mol)H2  \n",
       "0          0.023497            1.007867  \n",
       "1          0.029636            0.230720  \n",
       "2          0.027799            1.736061  \n",
       "\n",
       "[3 rows x 21 columns]"
      ]
     },
     "execution_count": 4,
     "metadata": {},
     "output_type": "execute_result"
    }
   ],
   "source": [
    "df = pd.merge(df_str, df_dft, left_on=\"cif\", right_on=\"name\")\n",
    "df = pd.merge(df, df_hal, left_on=\"cif\", right_on=\"REFCODE\")\n",
    "df.drop(columns=[\"REFCODE\", \"Unnamed: 0\"], inplace=True)\n",
    "df.head(3)"
   ]
  },
  {
   "cell_type": "code",
   "execution_count": 5,
   "metadata": {},
   "outputs": [
    {
     "data": {
      "text/html": [
       "<div>\n",
       "<style scoped>\n",
       "    .dataframe tbody tr th:only-of-type {\n",
       "        vertical-align: middle;\n",
       "    }\n",
       "\n",
       "    .dataframe tbody tr th {\n",
       "        vertical-align: top;\n",
       "    }\n",
       "\n",
       "    .dataframe thead th {\n",
       "        text-align: right;\n",
       "    }\n",
       "</style>\n",
       "<table border=\"1\" class=\"dataframe\">\n",
       "  <thead>\n",
       "    <tr style=\"text-align: right;\">\n",
       "      <th></th>\n",
       "      <th>pld</th>\n",
       "      <th>lcd</th>\n",
       "      <th>asa</th>\n",
       "      <th>av</th>\n",
       "      <th>psd mean</th>\n",
       "      <th>psd std</th>\n",
       "      <th>n_paths</th>\n",
       "      <th>paths mean</th>\n",
       "      <th>paths std</th>\n",
       "      <th>xdim</th>\n",
       "      <th>ydim</th>\n",
       "      <th>zdim</th>\n",
       "      <th>n_channels</th>\n",
       "      <th>g_gbr</th>\n",
       "      <th>k_gbr</th>\n",
       "      <th>Kh(mmol/gratm) CH4</th>\n",
       "      <th>Ener_dif(kJ/mol)CH4</th>\n",
       "      <th>Kh(mmol/gratm)H2</th>\n",
       "      <th>Ener_dif(kJ/mol)H2</th>\n",
       "    </tr>\n",
       "  </thead>\n",
       "  <tbody>\n",
       "    <tr>\n",
       "      <th>count</th>\n",
       "      <td>176.000000</td>\n",
       "      <td>176.000000</td>\n",
       "      <td>176.000000</td>\n",
       "      <td>176.000000</td>\n",
       "      <td>176.000000</td>\n",
       "      <td>176.000000</td>\n",
       "      <td>176.000000</td>\n",
       "      <td>176.000000</td>\n",
       "      <td>176.000000</td>\n",
       "      <td>176.000000</td>\n",
       "      <td>176.000000</td>\n",
       "      <td>176.000000</td>\n",
       "      <td>176.0</td>\n",
       "      <td>176.000000</td>\n",
       "      <td>176.000000</td>\n",
       "      <td>176.000000</td>\n",
       "      <td>176.000000</td>\n",
       "      <td>176.000000</td>\n",
       "      <td>176.000000</td>\n",
       "    </tr>\n",
       "    <tr>\n",
       "      <th>mean</th>\n",
       "      <td>3.892401</td>\n",
       "      <td>7.039020</td>\n",
       "      <td>22770.755511</td>\n",
       "      <td>15999.095909</td>\n",
       "      <td>1.207312</td>\n",
       "      <td>0.716161</td>\n",
       "      <td>15721.437500</td>\n",
       "      <td>1.960278</td>\n",
       "      <td>0.399933</td>\n",
       "      <td>28.794318</td>\n",
       "      <td>29.140341</td>\n",
       "      <td>29.819318</td>\n",
       "      <td>1.0</td>\n",
       "      <td>26.950782</td>\n",
       "      <td>57.116301</td>\n",
       "      <td>0.748964</td>\n",
       "      <td>522.757506</td>\n",
       "      <td>0.021588</td>\n",
       "      <td>475.306832</td>\n",
       "    </tr>\n",
       "    <tr>\n",
       "      <th>std</th>\n",
       "      <td>1.841863</td>\n",
       "      <td>1.983918</td>\n",
       "      <td>32521.690307</td>\n",
       "      <td>24665.589884</td>\n",
       "      <td>0.205130</td>\n",
       "      <td>0.195019</td>\n",
       "      <td>28920.373255</td>\n",
       "      <td>0.645996</td>\n",
       "      <td>0.335590</td>\n",
       "      <td>13.000843</td>\n",
       "      <td>13.921105</td>\n",
       "      <td>16.833781</td>\n",
       "      <td>0.0</td>\n",
       "      <td>6.948392</td>\n",
       "      <td>16.521939</td>\n",
       "      <td>0.588726</td>\n",
       "      <td>6267.012499</td>\n",
       "      <td>0.005256</td>\n",
       "      <td>6267.585424</td>\n",
       "    </tr>\n",
       "    <tr>\n",
       "      <th>min</th>\n",
       "      <td>1.210938</td>\n",
       "      <td>3.934463</td>\n",
       "      <td>1566.230000</td>\n",
       "      <td>1012.192000</td>\n",
       "      <td>0.777344</td>\n",
       "      <td>0.413235</td>\n",
       "      <td>75.000000</td>\n",
       "      <td>1.203412</td>\n",
       "      <td>0.029203</td>\n",
       "      <td>9.500000</td>\n",
       "      <td>9.500000</td>\n",
       "      <td>9.300000</td>\n",
       "      <td>1.0</td>\n",
       "      <td>12.702315</td>\n",
       "      <td>25.192129</td>\n",
       "      <td>0.001709</td>\n",
       "      <td>0.018822</td>\n",
       "      <td>0.009386</td>\n",
       "      <td>0.003713</td>\n",
       "    </tr>\n",
       "    <tr>\n",
       "      <th>25%</th>\n",
       "      <td>2.476562</td>\n",
       "      <td>5.651541</td>\n",
       "      <td>9179.857500</td>\n",
       "      <td>5761.109500</td>\n",
       "      <td>1.078794</td>\n",
       "      <td>0.586868</td>\n",
       "      <td>2077.750000</td>\n",
       "      <td>1.486708</td>\n",
       "      <td>0.142050</td>\n",
       "      <td>18.975000</td>\n",
       "      <td>21.575000</td>\n",
       "      <td>16.775000</td>\n",
       "      <td>1.0</td>\n",
       "      <td>22.430246</td>\n",
       "      <td>45.567185</td>\n",
       "      <td>0.438936</td>\n",
       "      <td>1.857674</td>\n",
       "      <td>0.017998</td>\n",
       "      <td>0.449076</td>\n",
       "    </tr>\n",
       "    <tr>\n",
       "      <th>50%</th>\n",
       "      <td>3.460938</td>\n",
       "      <td>6.823466</td>\n",
       "      <td>14058.965000</td>\n",
       "      <td>8948.731500</td>\n",
       "      <td>1.190307</td>\n",
       "      <td>0.681892</td>\n",
       "      <td>5117.000000</td>\n",
       "      <td>1.714635</td>\n",
       "      <td>0.294851</td>\n",
       "      <td>26.500000</td>\n",
       "      <td>26.200000</td>\n",
       "      <td>26.000000</td>\n",
       "      <td>1.0</td>\n",
       "      <td>25.525353</td>\n",
       "      <td>53.153815</td>\n",
       "      <td>0.604243</td>\n",
       "      <td>4.218884</td>\n",
       "      <td>0.021556</td>\n",
       "      <td>0.954462</td>\n",
       "    </tr>\n",
       "    <tr>\n",
       "      <th>75%</th>\n",
       "      <td>5.007812</td>\n",
       "      <td>7.932837</td>\n",
       "      <td>25255.370000</td>\n",
       "      <td>17914.989500</td>\n",
       "      <td>1.301222</td>\n",
       "      <td>0.801357</td>\n",
       "      <td>15736.250000</td>\n",
       "      <td>2.291315</td>\n",
       "      <td>0.547774</td>\n",
       "      <td>35.925000</td>\n",
       "      <td>35.475000</td>\n",
       "      <td>39.475000</td>\n",
       "      <td>1.0</td>\n",
       "      <td>29.025547</td>\n",
       "      <td>65.053399</td>\n",
       "      <td>0.951124</td>\n",
       "      <td>11.471468</td>\n",
       "      <td>0.025599</td>\n",
       "      <td>1.781171</td>\n",
       "    </tr>\n",
       "    <tr>\n",
       "      <th>max</th>\n",
       "      <td>11.335938</td>\n",
       "      <td>16.340136</td>\n",
       "      <td>298184.570000</td>\n",
       "      <td>210413.866000</td>\n",
       "      <td>2.383693</td>\n",
       "      <td>1.647325</td>\n",
       "      <td>170502.000000</td>\n",
       "      <td>4.041914</td>\n",
       "      <td>1.634035</td>\n",
       "      <td>83.600000</td>\n",
       "      <td>113.700000</td>\n",
       "      <td>82.900000</td>\n",
       "      <td>1.0</td>\n",
       "      <td>51.336274</td>\n",
       "      <td>107.574425</td>\n",
       "      <td>4.406606</td>\n",
       "      <td>83167.578125</td>\n",
       "      <td>0.048816</td>\n",
       "      <td>83151.726562</td>\n",
       "    </tr>\n",
       "  </tbody>\n",
       "</table>\n",
       "</div>"
      ],
      "text/plain": [
       "              pld         lcd            asa             av    psd mean  \\\n",
       "count  176.000000  176.000000     176.000000     176.000000  176.000000   \n",
       "mean     3.892401    7.039020   22770.755511   15999.095909    1.207312   \n",
       "std      1.841863    1.983918   32521.690307   24665.589884    0.205130   \n",
       "min      1.210938    3.934463    1566.230000    1012.192000    0.777344   \n",
       "25%      2.476562    5.651541    9179.857500    5761.109500    1.078794   \n",
       "50%      3.460938    6.823466   14058.965000    8948.731500    1.190307   \n",
       "75%      5.007812    7.932837   25255.370000   17914.989500    1.301222   \n",
       "max     11.335938   16.340136  298184.570000  210413.866000    2.383693   \n",
       "\n",
       "          psd std        n_paths  paths mean   paths std        xdim  \\\n",
       "count  176.000000     176.000000  176.000000  176.000000  176.000000   \n",
       "mean     0.716161   15721.437500    1.960278    0.399933   28.794318   \n",
       "std      0.195019   28920.373255    0.645996    0.335590   13.000843   \n",
       "min      0.413235      75.000000    1.203412    0.029203    9.500000   \n",
       "25%      0.586868    2077.750000    1.486708    0.142050   18.975000   \n",
       "50%      0.681892    5117.000000    1.714635    0.294851   26.500000   \n",
       "75%      0.801357   15736.250000    2.291315    0.547774   35.925000   \n",
       "max      1.647325  170502.000000    4.041914    1.634035   83.600000   \n",
       "\n",
       "             ydim        zdim  n_channels       g_gbr       k_gbr  \\\n",
       "count  176.000000  176.000000       176.0  176.000000  176.000000   \n",
       "mean    29.140341   29.819318         1.0   26.950782   57.116301   \n",
       "std     13.921105   16.833781         0.0    6.948392   16.521939   \n",
       "min      9.500000    9.300000         1.0   12.702315   25.192129   \n",
       "25%     21.575000   16.775000         1.0   22.430246   45.567185   \n",
       "50%     26.200000   26.000000         1.0   25.525353   53.153815   \n",
       "75%     35.475000   39.475000         1.0   29.025547   65.053399   \n",
       "max    113.700000   82.900000         1.0   51.336274  107.574425   \n",
       "\n",
       "       Kh(mmol/gratm) CH4  Ener_dif(kJ/mol)CH4  Kh(mmol/gratm)H2  \\\n",
       "count          176.000000           176.000000        176.000000   \n",
       "mean             0.748964           522.757506          0.021588   \n",
       "std              0.588726          6267.012499          0.005256   \n",
       "min              0.001709             0.018822          0.009386   \n",
       "25%              0.438936             1.857674          0.017998   \n",
       "50%              0.604243             4.218884          0.021556   \n",
       "75%              0.951124            11.471468          0.025599   \n",
       "max              4.406606         83167.578125          0.048816   \n",
       "\n",
       "       Ener_dif(kJ/mol)H2  \n",
       "count          176.000000  \n",
       "mean           475.306832  \n",
       "std           6267.585424  \n",
       "min              0.003713  \n",
       "25%              0.449076  \n",
       "50%              0.954462  \n",
       "75%              1.781171  \n",
       "max          83151.726562  "
      ]
     },
     "execution_count": 5,
     "metadata": {},
     "output_type": "execute_result"
    }
   ],
   "source": [
    "df.describe()"
   ]
  },
  {
   "cell_type": "code",
   "execution_count": 6,
   "metadata": {},
   "outputs": [],
   "source": [
    "pore_data = sio.loadmat(\"csv/iza_bulk_data.mat\")"
   ]
  },
  {
   "cell_type": "code",
   "execution_count": 103,
   "metadata": {},
   "outputs": [
    {
     "data": {
      "image/png": "[encoded data removed]",
      "text/plain": [
       "<Figure size 432x288 with 1 Axes>"
      ]
     },
     "metadata": {
      "needs_background": "light"
     },
     "output_type": "display_data"
    }
   ],
   "source": [
    "psd_list = pore_data[\"psd\"][0]\n",
    "path_list = pore_data[\"paths\"][0]\n",
    "areas = pore_data[\"areas\"][0]\n",
    "vols = pore_data[\"vols\"][0]\n",
    "\n",
    "nbins = 100\n",
    "psd_norm = np.zeros((len(psd_list), nbins))\n",
    "psd_mean_H2 = []\n",
    "psd_mean_ch4 = []\n",
    "for indx, psd in enumerate(psd_list):\n",
    "    psd_norm[indx, :] = np.histogram(psd, bins=nbins, range=(0,10))[0] / len(psd[0])\n",
    "    psd_mean_H2.append(np.mean(psd[0]))\n",
    "    psd_mean_ch4.append(np.mean(psd[0][psd[0]>1]))\n",
    "\n",
    "    \n",
    "indxs =  np.asarray(df_str[\"cif\"][df_str[\"cif\"].isin(df[\"cif\"])].index)\n",
    "psd_norm = psd_norm[indxs]\n",
    "psd_mean_H2 = np.asarray(psd_mean_H2)[indxs]\n",
    "psd_mean_ch4 = np.asarray(psd_mean_ch4)[indxs]\n",
    "vols = vols[indxs]\n",
    "areas = areas[indxs]\n",
    "for psd in psd_norm[:5]:\n",
    "    plt.plot(psd)\n",
    "plt.show()"
   ]
  },
  {
   "cell_type": "code",
   "execution_count": 114,
   "metadata": {},
   "outputs": [],
   "source": [
    "av = df[\"av\"] / vols\n",
    "asa = df[\"asa\"] / areas"
   ]
  },
  {
   "cell_type": "code",
   "execution_count": 60,
   "metadata": {},
   "outputs": [
    {
     "data": {
      "text/plain": [
       "array([[1.       , 0.7207255],\n",
       "       [0.7207255, 1.       ]])"
      ]
     },
     "execution_count": 60,
     "metadata": {},
     "output_type": "execute_result"
    }
   ],
   "source": [
    "np.corrcoef(psd_mean_H2, df[\"Kh(mmol/gratm)H2\"])"
   ]
  },
  {
   "cell_type": "code",
   "execution_count": 89,
   "metadata": {},
   "outputs": [
    {
     "data": {
      "text/plain": [
       "array([[ 1.        , -0.13623807],\n",
       "       [-0.13623807,  1.        ]])"
      ]
     },
     "execution_count": 89,
     "metadata": {},
     "output_type": "execute_result"
    }
   ],
   "source": [
    "np.corrcoef(df[\"lcd\"], df[\"Kh(mmol/gratm) CH4\"])"
   ]
  },
  {
   "cell_type": "code",
   "execution_count": 113,
   "metadata": {},
   "outputs": [
    {
     "name": "stdout",
     "output_type": "stream",
     "text": [
      "22\n"
     ]
    },
    {
     "data": {
      "text/plain": [
       "array([[1.        , 0.35895957],\n",
       "       [0.35895957, 1.        ]])"
      ]
     },
     "execution_count": 113,
     "metadata": {},
     "output_type": "execute_result"
    }
   ],
   "source": [
    "indxs_ = df[\"Kh(mmol/gratm) CH4\"] < 0.3\n",
    "print(np.count_nonzero(indxs_))\n",
    "np.corrcoef(df[\"psd mean\"][indxs_], df[\"Kh(mmol/gratm) CH4\"][indxs_])"
   ]
  },
  {
   "cell_type": "code",
   "execution_count": 111,
   "metadata": {},
   "outputs": [
    {
     "data": {
      "text/plain": [
       "array([[1.        , 0.37802502],\n",
       "       [0.37802502, 1.        ]])"
      ]
     },
     "execution_count": 111,
     "metadata": {},
     "output_type": "execute_result"
    }
   ],
   "source": [
    "np.corrcoef(df[\"av\"][indxs_], np.log(df[\"Kh(mmol/gratm) CH4\"][indxs_]))"
   ]
  },
  {
   "cell_type": "code",
   "execution_count": 83,
   "metadata": {},
   "outputs": [
    {
     "data": {
      "image/png": "[encoded data removed]",
      "text/plain": [
       "<Figure size 432x288 with 1 Axes>"
      ]
     },
     "metadata": {
      "needs_background": "light"
     },
     "output_type": "display_data"
    }
   ],
   "source": [
    "plt.hist(df[\"Kh(mmol/gratm) CH4\"])\n",
    "plt.show()"
   ]
  },
  {
   "cell_type": "code",
   "execution_count": 82,
   "metadata": {},
   "outputs": [
    {
     "data": {
      "image/png": "[encoded data removed]",
      "text/plain": [
       "<Figure size 432x288 with 1 Axes>"
      ]
     },
     "metadata": {
      "needs_background": "light"
     },
     "output_type": "display_data"
    }
   ],
   "source": [
    "plt.hist(df[\"Kh(mmol/gratm)H2\"])\n",
    "plt.show()"
   ]
  },
  {
   "cell_type": "code",
   "execution_count": 80,
   "metadata": {},
   "outputs": [
    {
     "data": {
      "image/png": "[encoded data removed]",
      "text/plain": [
       "<Figure size 432x288 with 1 Axes>"
      ]
     },
     "metadata": {
      "needs_background": "light"
     },
     "output_type": "display_data"
    }
   ],
   "source": [
    "plt.hist(df[\"Kh(mmol/gratm) CH4\"])\n",
    "plt.show()"
   ]
  },
  {
   "cell_type": "code",
   "execution_count": 77,
   "metadata": {},
   "outputs": [
    {
     "data": {
      "text/plain": [
       "array([[1.        , 0.44745818],\n",
       "       [0.44745818, 1.        ]])"
      ]
     },
     "execution_count": 77,
     "metadata": {},
     "output_type": "execute_result"
    }
   ],
   "source": [
    "x = df[\"psd mean\"][df[\"pld\"]<2.5]\n",
    "y = df[\"Kh(mmol/gratm) CH4\"][df[\"pld\"]<2.5]\n",
    "np.corrcoef(x, y)"
   ]
  }
 ],
 "metadata": {
  "kernelspec": {
   "display_name": "Python 3",
   "language": "python",
   "name": "python3"
  },
  "language_info": {
   "codemirror_mode": {
    "name": "ipython",
    "version": 3
   },
   "file_extension": ".py",
   "mimetype": "text/x-python",
   "name": "python",
   "nbconvert_exporter": "python",
   "pygments_lexer": "ipython3",
   "version": "3.6.6"
  }
 },
 "nbformat": 4,
 "nbformat_minor": 2
}
