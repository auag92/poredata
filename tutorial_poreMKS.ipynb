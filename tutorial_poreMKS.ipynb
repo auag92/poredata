{
 "cells": [
  {
   "cell_type": "code",
   "execution_count": 1,
   "metadata": {},
   "outputs": [],
   "source": [
    "%load_ext autoreload\n",
    "%autoreload 2"
   ]
  },
  {
   "cell_type": "code",
   "execution_count": 2,
   "metadata": {
    "scrolled": true
   },
   "outputs": [
    {
     "name": "stdout",
     "output_type": "stream",
     "text": [
      "you can install torch for speed-up as - \n",
      "conda install pytorch-cpu torchvision-cpu -c pytorch\n"
     ]
    }
   ],
   "source": [
    "import warnings\n",
    "warnings.filterwarnings(\"ignore\")\n",
    "import os\n",
    "import ase\n",
    "import time\n",
    "import numpy as np\n",
    "import ase.io as aio\n",
    "import scipy.io as sio\n",
    "import matplotlib.pyplot as plt\n",
    "import poremks.porosity as pore\n",
    "import poremks.grid_generator as gen\n",
    "from poremks.helpers import write2vtk\n",
    "from toolz.curried import pipe, curry"
   ]
  },
  {
   "cell_type": "markdown",
   "metadata": {},
   "source": [
    "## Load Structure of Interest"
   ]
  },
  {
   "cell_type": "markdown",
   "metadata": {},
   "source": [
    "### For an amorphous hydrocarbon macromolecular structure"
   ]
  },
  {
   "cell_type": "code",
   "execution_count": 3,
   "metadata": {},
   "outputs": [],
   "source": [
    "cif = \"EFK_50A_0.80.xyz\"\n",
    "fname = os.path.join(\"hydrocarbons\", \"EFK_50A_0.80.xyz\")\n",
    "\n",
    "rep = [1]*3\n",
    "radii={\"C\":1.7, \"H\": 1.1, \"O\": 1.52}\n",
    "len_pixel=10"
   ]
  },
  {
   "cell_type": "markdown",
   "metadata": {},
   "source": [
    "### For a 3D bulk zeolite"
   ]
  },
  {
   "cell_type": "code",
   "execution_count": 4,
   "metadata": {},
   "outputs": [],
   "source": [
    "cif = \"MFI.cif\"\n",
    "fname = os.path.join(\"iza_zeolites\", cif)\n",
    "\n",
    "rep = [1]*3\n",
    "len_pixel = 10\n",
    "radii={\"Si\":1.35, \"O\": 1.35}"
   ]
  },
  {
   "cell_type": "markdown",
   "metadata": {},
   "source": [
    "## For 2D slabs"
   ]
  },
  {
   "cell_type": "code",
   "execution_count": 3,
   "metadata": {},
   "outputs": [],
   "source": [
    "import glob\n",
    "cifs = glob.glob(\"likely_min_energy_structures/*.cif\")"
   ]
  },
  {
   "cell_type": "code",
   "execution_count": 11,
   "metadata": {},
   "outputs": [
    {
     "name": "stdout",
     "output_type": "stream",
     "text": [
      "likely_min_energy_structures/zz_EABff-[1,0,1]-L-0.497453_0-U-0.573212_0-ss-19.8283078267.cif\n"
     ]
    }
   ],
   "source": [
    "cif = cifs[0]\n",
    "print(cif)\n",
    "fname = os.path.join(\"\", cif)\n",
    "\n",
    "rep = [2,2,1]\n",
    "len_pixel = 10\n",
    "radii={\"Si\":1.35, \"O\": 1.35, \"H\":1.0}"
   ]
  },
  {
   "cell_type": "markdown",
   "metadata": {},
   "source": [
    "### Load the structure information using ase library as an atom object"
   ]
  },
  {
   "cell_type": "code",
   "execution_count": 12,
   "metadata": {},
   "outputs": [
    {
     "name": "stdout",
     "output_type": "stream",
     "text": [
      "No. of atoms in the structure: 984\n"
     ]
    }
   ],
   "source": [
    "atom = pipe(fname, \n",
    "            lambda fname: aio.read(fname), \n",
    "            lambda x: x.repeat(rep))\n",
    "\n",
    "print(\"No. of atoms in the structure: %d\" % len(atom))"
   ]
  },
  {
   "cell_type": "markdown",
   "metadata": {},
   "source": [
    "## Generate Voxelized Representation of the Pore Structure"
   ]
  },
  {
   "cell_type": "code",
   "execution_count": 13,
   "metadata": {},
   "outputs": [
    {
     "name": "stdout",
     "output_type": "stream",
     "text": [
      "(258, 377, 212)\n",
      "CPU times: user 32.4 s, sys: 5.89 s, total: 38.3 s\n",
      "Wall time: 38.3 s\n"
     ]
    }
   ],
   "source": [
    "%%time\n",
    "S = gen.grid_maker(atom, len_pixel=10, radii=radii, full=False, fft=True)[0]\n",
    "print(S.shape)"
   ]
  },
  {
   "cell_type": "markdown",
   "metadata": {},
   "source": [
    "### Compute Conventional Pore Metrics - PLD and LCD"
   ]
  },
  {
   "cell_type": "code",
   "execution_count": 14,
   "metadata": {
    "scrolled": false
   },
   "outputs": [
    {
     "name": "stdout",
     "output_type": "stream",
     "text": [
      "distance grid computation time: 1.985s\n",
      "PLD: 3.320\n",
      "PLD computation time: 1.474s\n",
      "LCD: 7.192\n",
      "LCD computation time: 0.007s\n"
     ]
    }
   ],
   "source": [
    "strt = time.time()\n",
    "padval = ((1, 1), (1, 1), (0, 0)) \n",
    "S_dgrid = pipe(S,\n",
    "               lambda s: np.pad(s, padval, 'constant', constant_values=0),\n",
    "               lambda s: pore.dgrid(s, len_pixel=len_pixel))\n",
    "end = time.time()\n",
    "print(\"distance grid computation time: %1.3fs\"%(end-strt))\n",
    "\n",
    "strt = time.time()\n",
    "pld  = pore.get_pld(S_dgrid)\n",
    "end  = time.time()\n",
    "print(\"PLD: %1.3f\" % pld)\n",
    "print(\"PLD computation time: %1.3fs\"%(end-strt))\n",
    "\n",
    "strt = time.time()\n",
    "lcd  = pore.get_lcd(S_dgrid)\n",
    "end  = time.time()\n",
    "print(\"LCD: %1.3f\" % lcd)\n",
    "print(\"LCD computation time: %1.3fs\"%(end-strt))"
   ]
  },
  {
   "cell_type": "markdown",
   "metadata": {},
   "source": [
    "### For PLD in a different direction"
   ]
  },
  {
   "cell_type": "code",
   "execution_count": 8,
   "metadata": {},
   "outputs": [
    {
     "name": "stdout",
     "output_type": "stream",
     "text": [
      "4.3046875\n",
      "CPU times: user 1.36 s, sys: 125 ms, total: 1.49 s\n",
      "Wall time: 985 ms\n"
     ]
    }
   ],
   "source": [
    "%%time\n",
    "padval = ((1, 1), (1, 1), (0, 0)) \n",
    "pld = pipe(S, \n",
    "           lambda s: np.rot90(s, axes=(0,2)),\n",
    "           lambda s: np.pad(s, padval, 'constant', constant_values=0),\n",
    "           lambda s: pore.dgrid(s, len_pixel=len_pixel),\n",
    "           lambda s: pore.get_pld(s))\n",
    "print(pld)"
   ]
  },
  {
   "cell_type": "markdown",
   "metadata": {},
   "source": [
    "# Geometric analysis of diffusion pathways\n",
    "\n",
    "- Convert admissible coordinates to graph structure\n",
    " - generate adjacency matrix from graph structure\n",
    " - use adjacency matrix to identify shortest paths\n",
    " - use a Shortest Path heuristic on the adjacency matrix to prune the medial axis network of dead ends.\n",
    " - for the pruned path, use eculidean distance from nearest atoms at each path voxel as a metric of pore size distribution"
   ]
  },
  {
   "cell_type": "markdown",
   "metadata": {},
   "source": [
    "### Extract pore volume accessible to a probe moleucle"
   ]
  },
  {
   "cell_type": "code",
   "execution_count": 9,
   "metadata": {},
   "outputs": [
    {
     "name": "stdout",
     "output_type": "stream",
     "text": [
      "Pore Cleaning Computation Time: 0.183s\n"
     ]
    }
   ],
   "source": [
    "strt = time.time()\n",
    "S_1 = (pore.gen_cleanPore(S_dgrid, r_probe=1.0, r_min=2.5, len_pixel=len_pixel) > 0) * 1\n",
    "end = time.time()\n",
    "print(\"Pore Cleaning Computation Time: %1.3fs\" % (end-strt))"
   ]
  },
  {
   "cell_type": "markdown",
   "metadata": {},
   "source": [
    "### Generate skeletonized representation of pore structure"
   ]
  },
  {
   "cell_type": "code",
   "execution_count": 10,
   "metadata": {},
   "outputs": [
    {
     "name": "stdout",
     "output_type": "stream",
     "text": [
      "Medial Path Computation Time: 1.957s\n"
     ]
    }
   ],
   "source": [
    "strt = time.time()\n",
    "S_2 = pipe(S_1, \n",
    "           lambda x: np.pad(x, pad_width=((0,0),(0,0),(len_pixel, len_pixel)), mode = \"constant\", constant_values=1), \n",
    "           lambda x: pore.gen_medialAxis(x)[:,:,len_pixel:-len_pixel])\n",
    "end = time.time()\n",
    "print(\"Medial Path Computation Time: %1.3fs\" % (end-strt))"
   ]
  },
  {
   "cell_type": "markdown",
   "metadata": {},
   "source": [
    "### Compute Shortest Paths connecting opposing faces of the molecular structure"
   ]
  },
  {
   "cell_type": "code",
   "execution_count": 11,
   "metadata": {},
   "outputs": [
    {
     "name": "stdout",
     "output_type": "stream",
     "text": [
      "Through Path Computation Time: 0.827s\n",
      "Mean and setdev of path lengths: 2.860, 0.085\n"
     ]
    }
   ],
   "source": [
    "strt = time.time()\n",
    "S_3, paths = pore.gen_throughPath(S_2, depth=1)\n",
    "end = time.time()\n",
    "print(\"Through Path Computation Time: %1.3fs\" % (end-strt))\n",
    "print(\"Mean and setdev of path lengths: %1.3f, %1.3f\" % (np.mean(paths), np.std(paths)))"
   ]
  },
  {
   "cell_type": "code",
   "execution_count": 12,
   "metadata": {},
   "outputs": [
    {
     "name": "stdout",
     "output_type": "stream",
     "text": [
      "No. of unique channels: 1\n"
     ]
    }
   ],
   "source": [
    "n_channels = len(pore.return_labelled(S_1)[-1])\n",
    "print(\"No. of unique channels: %d\" % n_channels)"
   ]
  },
  {
   "cell_type": "markdown",
   "metadata": {},
   "source": [
    "### Compute accessible surface area and volume"
   ]
  },
  {
   "cell_type": "code",
   "execution_count": 13,
   "metadata": {},
   "outputs": [
    {
     "name": "stdout",
     "output_type": "stream",
     "text": [
      "Probe Accessible Surface Area: 1543.670\n",
      "Probe Accessible Volume: 720.278\n"
     ]
    }
   ],
   "source": [
    "asa = pore.get_asa(S_1, len_pixel=10)\n",
    "print(\"Probe Accessible Surface Area: %1.3f\" % asa)\n",
    "av = np.count_nonzero(S_1) * (1 / len_pixel)**3\n",
    "print(\"Probe Accessible Volume: %1.3f\" % av)"
   ]
  },
  {
   "cell_type": "markdown",
   "metadata": {},
   "source": [
    "### Compute pore size distribution"
   ]
  },
  {
   "cell_type": "code",
   "execution_count": 14,
   "metadata": {},
   "outputs": [
    {
     "name": "stdout",
     "output_type": "stream",
     "text": [
      "Mean and setdev of pore size distribution: 1.893, 0.583\n"
     ]
    }
   ],
   "source": [
    "psd = S_dgrid[S_2==1]\n",
    "print(\"Mean and setdev of pore size distribution: %1.3f, %1.3f\" % (np.mean(psd), np.std(psd)))"
   ]
  },
  {
   "cell_type": "code",
   "execution_count": 15,
   "metadata": {},
   "outputs": [
    {
     "name": "stdout",
     "output_type": "stream",
     "text": [
      "dimensions of the structure:  [20.2 19.8 13.3]\n"
     ]
    }
   ],
   "source": [
    "dim = np.asarray(S.shape) / len_pixel\n",
    "print(\"dimensions of the structure: \", dim)"
   ]
  },
  {
   "cell_type": "markdown",
   "metadata": {},
   "source": [
    "### Visualize path length distribution (length in angstrom)"
   ]
  },
  {
   "cell_type": "code",
   "execution_count": 16,
   "metadata": {},
   "outputs": [
    {
     "data": {
      "image/png": "[encoded data removed]",
      "text/plain": [
       "<Figure size 432x288 with 1 Axes>"
      ]
     },
     "metadata": {
      "needs_background": "light"
     },
     "output_type": "display_data"
    }
   ],
   "source": [
    "plt.hist(paths)\n",
    "plt.show()"
   ]
  },
  {
   "cell_type": "markdown",
   "metadata": {},
   "source": [
    "### Visualize pore size distribution (length in angstrom)"
   ]
  },
  {
   "cell_type": "code",
   "execution_count": 17,
   "metadata": {},
   "outputs": [
    {
     "data": {
      "image/png": "[encoded data removed]",
      "text/plain": [
       "<Figure size 432x288 with 1 Axes>"
      ]
     },
     "metadata": {
      "needs_background": "light"
     },
     "output_type": "display_data"
    }
   ],
   "source": [
    "plt.hist(psd)\n",
    "plt.show()"
   ]
  },
  {
   "cell_type": "markdown",
   "metadata": {},
   "source": [
    "### Save the grids as vtk files, for 3D visualization in paraview"
   ]
  },
  {
   "cell_type": "code",
   "execution_count": 18,
   "metadata": {
    "scrolled": false
   },
   "outputs": [
    {
     "name": "stdout",
     "output_type": "stream",
     "text": [
      "CPU times: user 4.2 s, sys: 293 ms, total: 4.49 s\n",
      "Wall time: 4.49 s\n"
     ]
    }
   ],
   "source": [
    "%%time\n",
    "write2vtk(S_1, \"%s_pore.vtk\" % cif)\n",
    "write2vtk(S_3, \"%s_through_path.vtk\" % cif)"
   ]
  }
 ],
 "metadata": {
  "kernelspec": {
   "display_name": "Python 3",
   "language": "python",
   "name": "python3"
  },
  "language_info": {
   "codemirror_mode": {
    "name": "ipython",
    "version": 3
   },
   "file_extension": ".py",
   "mimetype": "text/x-python",
   "name": "python",
   "nbconvert_exporter": "python",
   "pygments_lexer": "ipython3",
   "version": "3.6.8"
  }
 },
 "nbformat": 4,
 "nbformat_minor": 2
}
